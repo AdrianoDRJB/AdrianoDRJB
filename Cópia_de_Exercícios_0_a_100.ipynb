{
  "nbformat": 4,
  "nbformat_minor": 0,
  "metadata": {
    "colab": {
      "provenance": [],
      "authorship_tag": "ABX9TyOMb9WM+55CZhWmIVcs9MYR",
      "include_colab_link": true
    },
    "kernelspec": {
      "name": "python3",
      "display_name": "Python 3"
    },
    "language_info": {
      "name": "python"
    }
  },
  "cells": [
    {
      "cell_type": "markdown",
      "metadata": {
        "id": "view-in-github",
        "colab_type": "text"
      },
      "source": [
        "<a href=\"https://colab.research.google.com/github/AdrianoDRJB/AdrianoDRJB/blob/main/C%C3%B3pia_de_Exerc%C3%ADcios_0_a_100.ipynb\" target=\"_parent\"><img src=\"https://colab.research.google.com/assets/colab-badge.svg\" alt=\"Open In Colab\"/></a>"
      ]
    },
    {
      "cell_type": "code",
      "execution_count": null,
      "metadata": {
        "colab": {
          "base_uri": "https://localhost:8080/"
        },
        "id": "4lUIiiNwKSqK",
        "outputId": "31eade23-99bd-4553-f2ec-651a5f220f3e"
      },
      "outputs": [
        {
          "output_type": "stream",
          "name": "stdout",
          "text": [
            "7\n"
          ]
        }
      ],
      "source": [
        "def Z(lista1,lista2,x): \n",
        "  z= 0 \n",
        "  for a in lista1:\n",
        "   if a ==x:\n",
        "      z+=1 \n",
        "  for b in lista2: \n",
        "    if b==x: z+=1 \n",
        "  return z \n",
        "a = ['dnc','abc','bnc','mnc','dnc','bnc','Dnc','ncd','dnc','dncdnc','ddnc'] \n",
        "b = ['dnc','abc','bnc','mnc','dnc','bnc','Dnc','ncd','dnc','dncdnc','ddnc','xms','cds','dn','cdn','dnc','xml','a'] \n",
        "y = Z(a,b,'dnc')\n",
        "print(y) "
      ]
    },
    {
      "cell_type": "code",
      "source": [
        "def contador_x (lista1,lista2,x):\n",
        "  contador=0 \n",
        "  for a,b in zip(lista1,lista2): \n",
        "    if a =='x' and b=='x':\n",
        "       break\n",
        "    else: \n",
        "        contador+=1\n",
        "    return contador \n",
        "a = ['dnc','abc','bnc','mnc','dnc','bnc','Dnc','ncd','dnc','dncdnc','ddnc']    \n",
        "b = ['dnc','abc','bnc','mnc','dnc','bnc','Dnc','ncd','dnc','dncdnc','ddnc','xms','cds','dn','cdn','dnc','xml','a']\n",
        "y = contador_x(a,b,'dnc') \n",
        "print(y)\n"
      ],
      "metadata": {
        "colab": {
          "base_uri": "https://localhost:8080/"
        },
        "id": "E5e9S7UhPVQq",
        "outputId": "05004167-e31a-4235-ee23-d4ffa6a431c9"
      },
      "execution_count": null,
      "outputs": [
        {
          "output_type": "stream",
          "name": "stdout",
          "text": [
            "1\n"
          ]
        }
      ]
    },
    {
      "cell_type": "code",
      "source": [
        "lista = [13,2,19,11,7,9,19,16,17,7,7,10,1,6,'dnc',18,2,11,2,9,10] \n",
        "X=0 \n",
        "i=0\n",
        "while True:\n",
        "    if lista[i] == 'dnc': \n",
        "     break \n",
        "    if lista[i]%2 == 1: \n",
        "      X += lista[i] \n",
        "      i += 1 \n",
        "      print(X)"
      ],
      "metadata": {
        "colab": {
          "base_uri": "https://localhost:8080/",
          "height": 254
        },
        "id": "k5zg66uiQnlh",
        "outputId": "13bcb591-a0f1-4f5d-c913-40fb49896262"
      },
      "execution_count": null,
      "outputs": [
        {
          "output_type": "stream",
          "name": "stdout",
          "text": [
            "13\n"
          ]
        },
        {
          "output_type": "error",
          "ename": "KeyboardInterrupt",
          "evalue": "ignored",
          "traceback": [
            "\u001b[0;31m---------------------------------------------------------------------------\u001b[0m",
            "\u001b[0;31mKeyboardInterrupt\u001b[0m                         Traceback (most recent call last)",
            "\u001b[0;32m<ipython-input-4-0fb77ea9dd1e>\u001b[0m in \u001b[0;36m<module>\u001b[0;34m\u001b[0m\n\u001b[1;32m      5\u001b[0m     \u001b[0;32mif\u001b[0m \u001b[0mlista\u001b[0m\u001b[0;34m[\u001b[0m\u001b[0mi\u001b[0m\u001b[0;34m]\u001b[0m \u001b[0;34m==\u001b[0m \u001b[0;34m'dnc'\u001b[0m\u001b[0;34m:\u001b[0m\u001b[0;34m\u001b[0m\u001b[0;34m\u001b[0m\u001b[0m\n\u001b[1;32m      6\u001b[0m      \u001b[0;32mbreak\u001b[0m\u001b[0;34m\u001b[0m\u001b[0;34m\u001b[0m\u001b[0m\n\u001b[0;32m----> 7\u001b[0;31m     \u001b[0;32mif\u001b[0m \u001b[0mlista\u001b[0m\u001b[0;34m[\u001b[0m\u001b[0mi\u001b[0m\u001b[0;34m]\u001b[0m\u001b[0;34m%\u001b[0m\u001b[0;36m2\u001b[0m \u001b[0;34m==\u001b[0m \u001b[0;36m1\u001b[0m\u001b[0;34m:\u001b[0m\u001b[0;34m\u001b[0m\u001b[0;34m\u001b[0m\u001b[0m\n\u001b[0m\u001b[1;32m      8\u001b[0m       \u001b[0mX\u001b[0m \u001b[0;34m+=\u001b[0m \u001b[0mlista\u001b[0m\u001b[0;34m[\u001b[0m\u001b[0mi\u001b[0m\u001b[0;34m]\u001b[0m\u001b[0;34m\u001b[0m\u001b[0;34m\u001b[0m\u001b[0m\n\u001b[1;32m      9\u001b[0m       \u001b[0mi\u001b[0m \u001b[0;34m+=\u001b[0m \u001b[0;36m1\u001b[0m\u001b[0;34m\u001b[0m\u001b[0;34m\u001b[0m\u001b[0m\n",
            "\u001b[0;31mKeyboardInterrupt\u001b[0m: "
          ]
        }
      ]
    },
    {
      "cell_type": "code",
      "source": [
        "nome = input('Digite seu nome ')\n",
        "print(f'Bem vindo ao curso {nome}')\n"
      ],
      "metadata": {
        "colab": {
          "base_uri": "https://localhost:8080/"
        },
        "id": "OP91xaujb1vz",
        "outputId": "cc3a6c58-950b-4f47-abda-686b77719a5a"
      },
      "execution_count": null,
      "outputs": [
        {
          "output_type": "stream",
          "name": "stdout",
          "text": [
            "Digite seu nome Adriano\n",
            "Bem vindo ao curso Adriano\n"
          ]
        }
      ]
    },
    {
      "cell_type": "code",
      "source": [
        "n1 = int(input('digite um numero: '))\n",
        "n2 = int(input('digite outro numero: '))\n",
        "soma = n1 + n2\n",
        "print(f'Você digitou {n1} e {n2}, a soma é {soma}')"
      ],
      "metadata": {
        "colab": {
          "base_uri": "https://localhost:8080/"
        },
        "id": "Xm-H5pNfcK_A",
        "outputId": "0c307e3f-4abb-4bca-fd83-1e78ea9e3243"
      },
      "execution_count": null,
      "outputs": [
        {
          "output_type": "stream",
          "name": "stdout",
          "text": [
            "digite um numero: 23\n",
            "digite outro numero: 7\n",
            "Você digitou 23 e 7, a soma é 30\n"
          ]
        }
      ]
    },
    {
      "cell_type": "code",
      "source": [
        "a = input('digite algo: ')\n",
        "print(type(a))\n",
        "print('é um numero? ', a.isnumeric())\n",
        "print('é espaço?', a.isspace())\n",
        "print('está captalizado? ',a.istitle())\n",
        "print('somente letras? ',a.isalpha())\n"
      ],
      "metadata": {
        "colab": {
          "base_uri": "https://localhost:8080/"
        },
        "id": "fMIU0WscclC8",
        "outputId": "337568fe-dcca-436d-bf7e-448407fce32a"
      },
      "execution_count": null,
      "outputs": [
        {
          "output_type": "stream",
          "name": "stdout",
          "text": [
            "digite algo: Adriano1987\n",
            "<class 'str'>\n",
            "é um numero?  False\n",
            "é espaço? False\n",
            "está captalizado?  True\n",
            "somente letras?  False\n"
          ]
        }
      ]
    },
    {
      "cell_type": "code",
      "source": [
        "num = int(input('digite um numero: '))\n",
        "print(f'analisando seu numero: é o {num} o antecessor é {num -1} e o sucesso é {num+1}')"
      ],
      "metadata": {
        "colab": {
          "base_uri": "https://localhost:8080/"
        },
        "id": "Vh0E7ML0gUcE",
        "outputId": "31188056-ab4f-4f4c-89e9-06e5f7ab9eda"
      },
      "execution_count": null,
      "outputs": [
        {
          "output_type": "stream",
          "name": "stdout",
          "text": [
            "digite um numero: 23\n",
            "analisando seu numero: é o 23 o antecessor é 22 e o sucesso é 24\n"
          ]
        }
      ]
    },
    {
      "cell_type": "code",
      "source": [
        "num = int(input('digite um numero: '))\n",
        "print(f'seu numero é {num} \\no dobro é {num*2} \\no triplo é {num*3} \\ne a raiz quadrada é {(num) ** 0.5}')"
      ],
      "metadata": {
        "colab": {
          "base_uri": "https://localhost:8080/"
        },
        "id": "8C32ZiMJg1-0",
        "outputId": "54f606b0-da9b-4a26-b32d-02201a0e62e0"
      },
      "execution_count": null,
      "outputs": [
        {
          "output_type": "stream",
          "name": "stdout",
          "text": [
            "digite um numero: 100\n",
            "seu numero é 100 \n",
            "o dobro é 200 \n",
            "o triplo é 300 \n",
            "e a raiz quadrada é 10.0\n"
          ]
        }
      ]
    },
    {
      "cell_type": "code",
      "source": [
        "num1 = int(input('digite a primeira nota: '))\n",
        "num2 = int(input('digite a segunda nota: '))\n",
        "soma = num1 + num2\n",
        "media = soma / 2\n",
        "print(f'sua primeira nota foi {num1}  a segunda nota foi {num2} e a media foi {media}')"
      ],
      "metadata": {
        "colab": {
          "base_uri": "https://localhost:8080/"
        },
        "id": "_okc1KzSBHdP",
        "outputId": "0f04ae43-643e-47c5-fead-6c4c9f3f27ce"
      },
      "execution_count": null,
      "outputs": [
        {
          "output_type": "stream",
          "name": "stdout",
          "text": [
            "digite a primeira nota: 7\n",
            "digite a segunda nota: 9\n",
            "sua primeira nota foi 7  a segunda nota foi 9 e a media foi 8.0\n"
          ]
        }
      ]
    },
    {
      "cell_type": "code",
      "source": [
        "Distância = int(input('Digite uma distancia em metros: '))\n",
        "print(f'A distância digitada foi {Distância} m. \\nem km vale {Distância * 1000} \\nem hm vale {Distância * 100} \\nem dam vale {Distância * 10} \\nem dm vale {Distância / 10} \\nem cm vale {Distância / 100} \\nem mm vale {Distância / 1000}')"
      ],
      "metadata": {
        "colab": {
          "base_uri": "https://localhost:8080/"
        },
        "id": "qj34VUzxCKDn",
        "outputId": "988737e7-e3e1-4a58-ad13-e46bdddf956e"
      },
      "execution_count": null,
      "outputs": [
        {
          "output_type": "stream",
          "name": "stdout",
          "text": [
            "Digite uma distancia em metros: 7\n",
            "A distância digitada foi 7 m. \n",
            "em km vale 7000 \n",
            "em hm vale 700 \n",
            "em dam vale 70 \n",
            "em dm vale 0.7 \n",
            "em cm vale 0.07 \n",
            "em mm vale 0.007\n"
          ]
        }
      ]
    },
    {
      "cell_type": "code",
      "source": [
        "num = int(input('digite um numero: '))\n",
        "mult = cont = 0\n",
        "for n in range(0,11,1):\n",
        "  mult = n * num\n",
        "  cont += 1\n",
        "  print(f'{num} * {n:2} = {mult:>2}')\n",
        "print('-='*30)\n",
        "print('Fim da tabuada')"
      ],
      "metadata": {
        "colab": {
          "base_uri": "https://localhost:8080/"
        },
        "id": "CxxV8aymDYAB",
        "outputId": "c0d332c8-8cbd-43a3-d3f1-f68b7ea5d855"
      },
      "execution_count": null,
      "outputs": [
        {
          "output_type": "stream",
          "name": "stdout",
          "text": [
            "digite um numero: 7\n",
            "7 *  0 =  0\n",
            "7 *  1 =  7\n",
            "7 *  2 = 14\n",
            "7 *  3 = 21\n",
            "7 *  4 = 28\n",
            "7 *  5 = 35\n",
            "7 *  6 = 42\n",
            "7 *  7 = 49\n",
            "7 *  8 = 56\n",
            "7 *  9 = 63\n",
            "7 * 10 = 70\n",
            "-=-=-=-=-=-=-=-=-=-=-=-=-=-=-=-=-=-=-=-=-=-=-=-=-=-=-=-=-=-=\n",
            "Fim da tabuada\n"
          ]
        }
      ]
    },
    {
      "cell_type": "code",
      "source": [
        "num = int(input('Quanto dinheiro você tem? '))\n",
        "print(f'Com {num} você consegue comprar {num/5.2:.2f} dólares.')"
      ],
      "metadata": {
        "colab": {
          "base_uri": "https://localhost:8080/"
        },
        "id": "dcDCr5EJTkcx",
        "outputId": "df5ca67e-0751-4b21-817b-b2b0025c5052"
      },
      "execution_count": null,
      "outputs": [
        {
          "output_type": "stream",
          "name": "stdout",
          "text": [
            "Quanto dinheiro você tem? 77\n",
            "Com 77 você consegue comprar 14.81 dólares.\n"
          ]
        }
      ]
    },
    {
      "cell_type": "code",
      "source": [
        "larg = float(input('Qual a largura da parede? '))\n",
        "alt = float(input('Qual a altura da parede? '))\n",
        "area = larg * alt\n",
        "litro = 1\n",
        "qnt_de_tinta = area * 0.5\n",
        "print(f'As dimensões da parede são {larg} x {alt} e isso em M2 é = {area:.2f}')\n",
        "print(f'E para pintar tudo precisará de {qnt_de_tinta:.2f}l de tinta')"
      ],
      "metadata": {
        "colab": {
          "base_uri": "https://localhost:8080/"
        },
        "id": "WIwivQi1VvFv",
        "outputId": "23205e34-cf26-4643-c411-6f6b046b6de2"
      },
      "execution_count": null,
      "outputs": [
        {
          "output_type": "stream",
          "name": "stdout",
          "text": [
            "Qual a largura da parede? 3.2\n",
            "Qual a altura da parede? 2.1\n",
            "As dimensões da parede são 3.2 x 2.1 e isso em M2 é = 6.72\n",
            "E para pintar tudo precisará de 3.36l de tinta\n"
          ]
        }
      ]
    },
    {
      "cell_type": "code",
      "source": [
        "preco = float(input('Quanto custa o produto? '))\n",
        "print(f'O produto custa R$: {preco:.2f} mas com nosso desconto especial de 8% ele sai por R$: {preco - (preco * 0.08)}')"
      ],
      "metadata": {
        "colab": {
          "base_uri": "https://localhost:8080/"
        },
        "id": "kmdcdZFAZw6i",
        "outputId": "951d2e7a-cd28-43aa-bc65-6b12dedb6790"
      },
      "execution_count": null,
      "outputs": [
        {
          "output_type": "stream",
          "name": "stdout",
          "text": [
            "Quanto custa o produto? 23\n",
            "O produto custa R$: 23.00 mas com nosso desconto especial de 8% ele sai por R$: 21.16\n"
          ]
        }
      ]
    },
    {
      "cell_type": "code",
      "source": [
        "salario = float(input('Digite o salario: '))\n",
        "print(f'O salário do funcionário que ganha R$: {salario:.2f} vai para R$: {salario + (salario * 0.15):.2f} com 15% de aumento.')"
      ],
      "metadata": {
        "colab": {
          "base_uri": "https://localhost:8080/"
        },
        "id": "Hi9AtO0VbbeT",
        "outputId": "16c2ec8a-4423-4b8e-eab9-730483d7de97"
      },
      "execution_count": null,
      "outputs": [
        {
          "output_type": "stream",
          "name": "stdout",
          "text": [
            "Digite o salario: 4555\n",
            "O salário do funcionário que ganha R$: 4555.00 vai para R$: 5238.25 com 15% de aumento.\n"
          ]
        }
      ]
    },
    {
      "cell_type": "code",
      "source": [
        "dias_alugado = int(input('Quantos dias alugou o carro? '))\n",
        "km_rodado = int(input('Quantos km rodaram? '))\n",
        "print(f'O total a pagar é R$: {(dias_alugado * 60) + (km_rodado * 0.15):.2f}')"
      ],
      "metadata": {
        "colab": {
          "base_uri": "https://localhost:8080/"
        },
        "id": "lAvkZG9YfiD3",
        "outputId": "302b3c72-0b93-4a23-e88f-9f6f03502fd9"
      },
      "execution_count": null,
      "outputs": [
        {
          "output_type": "stream",
          "name": "stdout",
          "text": [
            "Quantos dias alugou o carro? 7\n",
            "Quantos km rodaram? 123\n",
            "O total a pagar é R$: 438.45\n"
          ]
        }
      ]
    },
    {
      "cell_type": "code",
      "source": [
        "cateto_op = float(input('Digite o tamanho do cateto oposto: '))\n",
        "cateto_adj = float(input('Digite o cateto adjacente: '))\n",
        "hipotenusa = (cateto_op ** 2 + cateto_adj ** 2) ** (1/2)\n",
        "print(f'A hipotenusa vale: {(cateto_op ** 2 + cateto_adj ** 2) ** (1/2)}')"
      ],
      "metadata": {
        "colab": {
          "base_uri": "https://localhost:8080/"
        },
        "id": "bsmT_WqkEH5t",
        "outputId": "6c705ef6-57b7-465f-c816-398276c96d84"
      },
      "execution_count": null,
      "outputs": [
        {
          "output_type": "stream",
          "name": "stdout",
          "text": [
            "Digite o tamanho do cateto oposto: 4\n",
            "Digite o cateto adjacente: 4\n",
            "A hipotenusa vale: 5.656854249492381\n"
          ]
        }
      ]
    },
    {
      "cell_type": "code",
      "source": [
        "import math\n",
        "angulo = int(input('Qual ângulo gostaria de analisar? '))\n",
        "seno = math.sin(math.radians(angulo))\n",
        "print(f'O seno de {angulo} é: {seno}')\n",
        "cos = math.cos(math.radians(angulo))\n",
        "print(f'O cosseno de {angulo} é: {cos}')\n"
      ],
      "metadata": {
        "colab": {
          "base_uri": "https://localhost:8080/"
        },
        "id": "_NKUMEE7LDTe",
        "outputId": "aaf01439-bc2f-42c8-834b-0c303e838836"
      },
      "execution_count": null,
      "outputs": [
        {
          "output_type": "stream",
          "name": "stdout",
          "text": [
            "Qual ângulo gostaria de analisar? 45\n",
            "O seno de 45 é: 0.7071067811865475\n",
            "O cosseno de 45 é: 0.7071067811865476\n"
          ]
        }
      ]
    },
    {
      "cell_type": "code",
      "source": [
        "import random\n",
        "alunos = ['Adriano', 'Alex', 'Gabriela', 'Tiana', 'Cida', 'Ary']\n",
        "sorteado = random.choice(alunos)\n",
        "print(sorteado)"
      ],
      "metadata": {
        "colab": {
          "base_uri": "https://localhost:8080/"
        },
        "id": "6HCeD7VqMr4g",
        "outputId": "769f9c02-bbb6-47f1-ddfe-3f30dc85bcdf"
      },
      "execution_count": null,
      "outputs": [
        {
          "output_type": "stream",
          "name": "stdout",
          "text": [
            "Ary\n"
          ]
        }
      ]
    },
    {
      "cell_type": "code",
      "source": [
        "import random\n",
        "alunos = ['Adriano', 'Alex', 'Gabriela', 'Tiana', 'Cida', 'Ary']\n",
        "for sort in alunos:\n",
        "  sort = random.choices(alunos)\n",
        "  print(sort)"
      ],
      "metadata": {
        "id": "ZGTwrqArNZg2",
        "colab": {
          "base_uri": "https://localhost:8080/"
        },
        "outputId": "289b397a-54c8-4714-e88f-e32af8c1899b"
      },
      "execution_count": null,
      "outputs": [
        {
          "output_type": "stream",
          "name": "stdout",
          "text": [
            "['Cida']\n",
            "['Ary']\n",
            "['Tiana']\n",
            "['Gabriela']\n",
            "['Adriano']\n",
            "['Cida']\n"
          ]
        }
      ]
    },
    {
      "cell_type": "code",
      "source": [
        "nome = str(input(\"Digite seu nome: \"))\n",
        "print(f'seu nome em maiúsculas é: {nome.upper()}')\n",
        "print(f'seu nome em minúsculas é: {nome.lower()}')\n",
        "print(f'seu nome todo tem {len(nome)- nome.count(\" \")} letras.')\n",
        "primeiro_nome = nome.split(\" \")\n",
        "print(primeiro_nome[0])\n",
        "\n"
      ],
      "metadata": {
        "id": "Gd3-AdUKjql8",
        "colab": {
          "base_uri": "https://localhost:8080/"
        },
        "outputId": "1e8fbd94-f5c4-451f-9aee-c649eb30f0c8"
      },
      "execution_count": 16,
      "outputs": [
        {
          "output_type": "stream",
          "name": "stdout",
          "text": [
            "Digite seu nome: adriano tavares monteiro\n",
            "seu nome em maiúsculas é: ADRIANO TAVARES MONTEIRO\n",
            "seu nome em minúsculas é: adriano tavares monteiro\n",
            "seu nome todo tem 22 letras.\n",
            "adriano\n"
          ]
        }
      ]
    },
    {
      "cell_type": "code",
      "source": [
        "num = int(input('Digite um numero: '))\n",
        "u = num // 1 % 10\n",
        "d = num // 10 % 10\n",
        "c = num // 100 % 10\n",
        "m = num // 1000 % 10\n",
        "print(\"Analisando seu número\")\n",
        "print(\"unidade: {}\".format(u))\n",
        "print(\"dezena: {}\".format(d))\n",
        "print(\"centena: {}\".format(c))\n",
        "print(\"milhar: {}\".format(m))\n"
      ],
      "metadata": {
        "colab": {
          "base_uri": "https://localhost:8080/"
        },
        "id": "u6CzwESOqEn9",
        "outputId": "cecbede6-2d08-4bb9-ee5d-609953dd1699"
      },
      "execution_count": 20,
      "outputs": [
        {
          "output_type": "stream",
          "name": "stdout",
          "text": [
            "Digite um numero: 2332\n",
            "Analisando seu número\n",
            "unidade: 2\n",
            "dezena: 3\n",
            "centena: 3\n",
            "milhar: 2\n"
          ]
        }
      ]
    },
    {
      "cell_type": "code",
      "source": [
        "cidade = str(input(\"Qual nome da sua cidade: \")).strip()\n",
        "print(cidade[:5].upper() == \"SANTO\")"
      ],
      "metadata": {
        "colab": {
          "base_uri": "https://localhost:8080/"
        },
        "id": "LTb6TL50t27K",
        "outputId": "e9784be9-ea7b-43d3-f986-0776b7592e8f"
      },
      "execution_count": 22,
      "outputs": [
        {
          "output_type": "stream",
          "name": "stdout",
          "text": [
            "Qual nome da sua cidade: engemheiro paulo de frontin\n",
            "False\n"
          ]
        }
      ]
    },
    {
      "cell_type": "code",
      "source": [
        "nome = str(input(\"Digite seu nome completo: \"))\n",
        "print(\"seu nome tem silva? {}\".format('Silva'in nome))\n",
        "  "
      ],
      "metadata": {
        "colab": {
          "base_uri": "https://localhost:8080/"
        },
        "id": "rmcIm47qGe1w",
        "outputId": "9ea82f30-52b7-4e79-a3ff-7c0791540027"
      },
      "execution_count": 1,
      "outputs": [
        {
          "output_type": "stream",
          "name": "stdout",
          "text": [
            "Digite seu nome completo: Adriana da Silva Tavares\n",
            "seu nome tem silva? True\n"
          ]
        }
      ]
    },
    {
      "cell_type": "code",
      "source": [
        "frase = str(input(\"Digite uma frase: \"))\n",
        "print(\"a letra a aparece {} vezes\".format(frase.count('a')))\n",
        "print(\"a primeira letra a aparece na posição {}\".format(frase.find('a')))\n",
        "print(\"a ultima letra a aparece na posição {}\".format(frase.rfind('a')))\n"
      ],
      "metadata": {
        "colab": {
          "base_uri": "https://localhost:8080/"
        },
        "id": "8XmSyjcKJnW1",
        "outputId": "f54f5479-c67b-423c-d1e6-810e29ecf80a"
      },
      "execution_count": 10,
      "outputs": [
        {
          "output_type": "stream",
          "name": "stdout",
          "text": [
            "Digite uma frase: mengao ganhou, porra\n",
            "a letra a aparece 3 vezes\n",
            "a primeira letra a aparece na posição 4\n",
            "a ultima letra a aparece na posição 19\n"
          ]
        }
      ]
    },
    {
      "cell_type": "code",
      "source": [
        "nome = str(input(\"Digite seu nome completo: \"))\n",
        "print(\"Bien venido mtfcker\")\n",
        "#print(\"Seu primeiro nome é {}\".format(nome.split()))\n",
        "nome_dividido = nome.split()\n",
        "print(\"Seu primeiro nome é {}\".format(nome_dividido[0]))\n",
        "print(\"Seu ultimo nome é {}\".format(nome_dividido[len(nome_dividido)-1]))"
      ],
      "metadata": {
        "colab": {
          "base_uri": "https://localhost:8080/"
        },
        "id": "ue30lpBeT3be",
        "outputId": "e3265769-d591-4971-ecea-ad10db66c233"
      },
      "execution_count": 16,
      "outputs": [
        {
          "output_type": "stream",
          "name": "stdout",
          "text": [
            "Digite seu nome completo: Adriano Tavares Monteiro\n",
            "Bien venido mtfcker\n",
            "Seu primeiro nome é Adriano\n",
            "Seu ultimo nome é Monteiro\n"
          ]
        }
      ]
    },
    {
      "cell_type": "code",
      "source": [
        "from random import randint\n",
        "jogo = randint(0,5)\n",
        "usuario = int(input('Digite um número entre 0 e 5 '))\n",
        "print(f'O correto seria {jogo}')\n",
        "if jogo == usuario:\n",
        "  print('Voce ganhou!')\n",
        "else:\n",
        "  print('não foi dessa vez')  "
      ],
      "metadata": {
        "colab": {
          "base_uri": "https://localhost:8080/"
        },
        "id": "oKvN8rPfXpKr",
        "outputId": "cb1acbde-1eae-48c8-a07a-46b88d8dcea9"
      },
      "execution_count": 23,
      "outputs": [
        {
          "output_type": "stream",
          "name": "stdout",
          "text": [
            "Digite um número entre 0 e 5 3\n",
            "O correto seria 3\n",
            "Voce ganhou!\n"
          ]
        }
      ]
    },
    {
      "cell_type": "code",
      "source": [],
      "metadata": {
        "id": "pFrNyadWXs2j"
      },
      "execution_count": null,
      "outputs": []
    }
  ]
}